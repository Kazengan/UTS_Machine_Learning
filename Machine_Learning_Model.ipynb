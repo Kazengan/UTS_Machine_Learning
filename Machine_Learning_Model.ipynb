{
  "cells": [
    {
      "cell_type": "code",
      "execution_count": null,
      "metadata": {
        "id": "lGIE9p78tfBa"
      },
      "outputs": [],
      "source": [
        "import pandas as pd\n",
        "from sklearn.datasets import load_breast_cancer\n",
        "from sklearn.model_selection import train_test_split\n",
        "from sklearn.preprocessing import StandardScaler\n",
        "from sklearn.linear_model import LogisticRegression\n",
        "from sklearn.ensemble import RandomForestClassifier\n",
        "from sklearn.tree import DecisionTreeClassifier, plot_tree\n",
        "from sklearn.metrics import accuracy_score, confusion_matrix, classification_report\n",
        "import seaborn as sns\n",
        "import matplotlib.pyplot as plt"
      ]
    },
    {
      "cell_type": "code",
      "execution_count": null,
      "metadata": {
        "id": "QslfT_dZte93"
      },
      "outputs": [],
      "source": [
        "# Memuat dataset kanker payudara\n",
        "data = load_breast_cancer()"
      ]
    },
    {
      "cell_type": "code",
      "execution_count": null,
      "metadata": {
        "id": "yihKyQTKte68"
      },
      "outputs": [],
      "source": [
        "# Mengonversi dataset menjadi DataFrame pandas\n",
        "df = pd.DataFrame(data.data, columns=data.feature_names)\n",
        "df['target'] = data.target"
      ]
    },
    {
      "cell_type": "code",
      "execution_count": null,
      "metadata": {
        "id": "BIs8rKLqte3s"
      },
      "outputs": [],
      "source": [
        "# Menampilkan lima baris pertama dataset\n",
        "print(\"Lima baris pertama dataset:\\n\")\n",
        "display(df.head())"
      ]
    },
    {
      "cell_type": "code",
      "execution_count": null,
      "metadata": {
        "id": "_iRCk1PEtkqV"
      },
      "outputs": [],
      "source": [
        "# Menampilkan informasi dataset\n",
        "print(\"Informasi Dataset:\")\n",
        "df.info()"
      ]
    },
    {
      "cell_type": "code",
      "execution_count": null,
      "metadata": {
        "id": "MYOSH5k4tkfr"
      },
      "outputs": [],
      "source": [
        "# Menampilkan ringkasan statistik dataset\n",
        "print(\"\\nStatistik Dataset:\")\n",
        "display(df.describe())"
      ]
    },
    {
      "cell_type": "code",
      "execution_count": null,
      "metadata": {
        "id": "Z6ullE9stkcW"
      },
      "outputs": [],
      "source": [
        "# Menampilkan distribusi variabel target\n",
        "plt.figure(figsize=(8, 6))\n",
        "sns.countplot(x='target', data=df)\n",
        "plt.show()"
      ]
    },
    {
      "cell_type": "code",
      "execution_count": null,
      "metadata": {
        "id": "U-lwWa1Ltkah"
      },
      "outputs": [],
      "source": [
        "# Menampilkan matriks korelasi dengan menggunakan fungsi pairplot dari Seaborn\n",
        "sns.pairplot(df, hue='target', diag_kind='hist')\n",
        "plt.show()"
      ]
    },
    {
      "cell_type": "code",
      "execution_count": null,
      "metadata": {
        "id": "1F5D0JR0tkYO"
      },
      "outputs": [],
      "source": [
        "# Menampilkan matriks korelasi menggunakan fungsi heatmap dari Seaborn\n",
        "plt.figure(figsize=(12, 8))\n",
        "sns.heatmap(df.corr(), cmap='Blues')\n",
        "plt.show()"
      ]
    },
    {
      "cell_type": "code",
      "execution_count": null,
      "metadata": {
        "id": "z9yakfLjusFB"
      },
      "outputs": [],
      "source": [
        "# Membagi dataset menjadi set pelatihan dan pengujian\n",
        "X = df.drop('target', axis=1)\n",
        "y = df['target']\n",
        "X_train, X_test, y_train, y_test = train_test_split(X, y, test_size=0.3, random_state=42)"
      ]
    },
    {
      "cell_type": "code",
      "execution_count": null,
      "metadata": {
        "id": "3ms-ZslausBj"
      },
      "outputs": [],
      "source": [
        "# Melakukan Normalisasi data menggunakan StandardScaler\n",
        "scaler = StandardScaler()\n",
        "X_train_scaled = scaler.fit_transform(X_train)\n",
        "X_test_scaled = scaler.transform(X_test)"
      ]
    },
    {
      "cell_type": "code",
      "execution_count": null,
      "metadata": {
        "id": "mHryFc5Gur_K"
      },
      "outputs": [],
      "source": [
        "# Melatih model self training\n",
        "model1 = LogisticRegression()\n",
        "model1.fit(X_train_scaled, y_train)"
      ]
    },
    {
      "cell_type": "code",
      "execution_count": null,
      "metadata": {
        "id": "MfYFfAD0ur88"
      },
      "outputs": [],
      "source": [
        "# Melatih model random forest\n",
        "model2 = RandomForestClassifier(n_estimators=100, random_state=42)\n",
        "model2.fit(X_train_scaled, y_train)"
      ]
    },
    {
      "cell_type": "code",
      "execution_count": null,
      "metadata": {
        "id": "i1TeLdZYur6D"
      },
      "outputs": [],
      "source": [
        "# Melatih model decission tree\n",
        "model3 = DecisionTreeClassifier(random_state=42)\n",
        "model3.fit(X_train, y_train)"
      ]
    },
    {
      "cell_type": "code",
      "execution_count": null,
      "metadata": {
        "id": "GpDVlNK4ur1x"
      },
      "outputs": [],
      "source": [
        "# Mengevaluasi model pada set pengujian\n",
        "y_pred1 = model1.predict(X_test_scaled)\n",
        "y_pred2 = model2.predict(X_test_scaled)\n",
        "y_pred3 = model3.predict(X_test)\n",
        "\n",
        "accuracy1 = accuracy_score(y_test, y_pred1)\n",
        "accuracy2 = accuracy_score(y_test, y_pred2)\n",
        "accuracy3 = accuracy_score(y_test, y_pred3)\n",
        "\n",
        "print(f\"Akurasi model self training: {accuracy1}\")\n",
        "print(f\"Akurasi model random forest: {accuracy2}\")\n",
        "print(f\"Akurasi model decission tree: {accuracy3}\")"
      ]
    },
    {
      "cell_type": "code",
      "execution_count": null,
      "metadata": {
        "id": "9o6mniV9u-74"
      },
      "outputs": [],
      "source": [
        "# Menampilkan classification report\n",
        "report1 = classification_report(y_test, y_pred1, output_dict=True)\n",
        "report2 = classification_report(y_test, y_pred2, output_dict=True)\n",
        "report3 = classification_report(y_test, y_pred3, output_dict=True)\n",
        "\n",
        "df_report1 = pd.DataFrame(report1).transpose()\n",
        "df_report1.drop('support', axis=1, inplace=True)\n",
        "df_report1.drop('accuracy', axis=0, inplace=True)\n",
        "\n",
        "df_report2 = pd.DataFrame(report2).transpose()\n",
        "df_report2.drop('support', axis=1, inplace=True)\n",
        "df_report2.drop('accuracy', axis=0, inplace=True)\n",
        "\n",
        "df_report3 = pd.DataFrame(report3).transpose()\n",
        "df_report3.drop('support', axis=1, inplace=True)\n",
        "df_report3.drop('accuracy', axis=0, inplace=True)\n",
        "\n",
        "fig, axs = plt.subplots(1, 3, figsize=(15,5))\n",
        "fig.suptitle(\"Classification Report\")\n",
        "\n",
        "sns.barplot(x=df_report1.index, y=df_report1['f1-score'], ax=axs[0])\n",
        "sns.barplot(x=df_report2.index, y=df_report2['f1-score'], ax=axs[1])\n",
        "sns.barplot(x=df_report3.index, y=df_report3['f1-score'], ax=axs[2])\n",
        "\n",
        "plt.show()"
      ]
    },
    {
      "cell_type": "code",
      "execution_count": null,
      "metadata": {
        "id": "tM1-QIVJu-4X"
      },
      "outputs": [],
      "source": [
        "# Menampilkan confusion matrix\n",
        "cm1 = confusion_matrix(y_test, y_pred1)\n",
        "cm2 = confusion_matrix(y_test, y_pred2)\n",
        "cm3 = confusion_matrix(y_test, y_pred3)\n",
        "\n",
        "plt.figure(figsize=(15,5))\n",
        "plt.subplot(1, 3, 1)\n",
        "sns.heatmap(cm1, annot=True, cmap='Blues', fmt='.0f')\n",
        "plt.title(\"Confusion Matrix Self Training\")\n",
        "plt.xlabel(\"Label Prediksi\")\n",
        "plt.ylabel(\"Label Sebenarnya\")\n",
        "\n",
        "plt.subplot(1, 3, 2)\n",
        "sns.heatmap(cm2, annot=True, cmap='Blues', fmt='.0f')\n",
        "plt.title(\"Confusion Matrix Random Forest\")\n",
        "plt.xlabel(\"Label Prediksi\")\n",
        "plt.ylabel(\"Label Sebenarnya\")\n",
        "\n",
        "plt.subplot(1, 3, 3)\n",
        "sns.heatmap(cm3, annot=True, cmap='Blues', fmt='.0f')\n",
        "plt.title(\"Confusion Matrix Decission Tree\")\n",
        "plt.xlabel(\"Label Prediksi\")\n",
        "plt.ylabel(\"Label Sebenarnya\")\n",
        "\n",
        "plt.show()"
      ]
    },
    {
      "cell_type": "code",
      "execution_count": null,
      "metadata": {
        "id": "lma6-n4Ju-1i"
      },
      "outputs": [],
      "source": [
        "# Visualisasi tingkat kepentingan fitur\n",
        "feature_importance = pd.Series(model2.feature_importances_, index=X.columns)\n",
        "feature_importance.nlargest(10).plot(kind='barh')\n",
        "plt.title(\"10 Fitur Terpenting Random Forest\")\n",
        "plt.show()"
      ]
    },
    {
      "cell_type": "code",
      "execution_count": null,
      "metadata": {
        "id": "jHTH5CoHlBPA"
      },
      "outputs": [],
      "source": [
        "# Visualisasi pohon keputusan\n",
        "plt.figure(figsize=(20,10))\n",
        "plot_tree(model3, feature_names=X.columns, class_names=['ganas', 'jinak'], filled=True)\n",
        "plt.show()"
      ]
    }
  ],
  "metadata": {
    "colab": {
      "provenance": []
    },
    "kernelspec": {
      "display_name": "Python 3",
      "name": "python3"
    },
    "language_info": {
      "name": "python"
    }
  },
  "nbformat": 4,
  "nbformat_minor": 0
}